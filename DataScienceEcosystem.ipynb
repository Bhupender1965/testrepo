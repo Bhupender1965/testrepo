{
  "metadata": {
    "kernelspec": {
      "name": "python",
      "display_name": "Python (Pyodide)",
      "language": "python"
    },
    "language_info": {
      "codemirror_mode": {
        "name": "python",
        "version": 3
      },
      "file_extension": ".py",
      "mimetype": "text/x-python",
      "name": "python",
      "nbconvert_exporter": "python",
      "pygments_lexer": "ipython3",
      "version": "3.8"
    }
  },
  "nbformat_minor": 4,
  "nbformat": 4,
  "cells": [
    {
      "cell_type": "markdown",
      "source": "# <H1> Data Science Tools and Eco System <H1>",
      "metadata": {}
    },
    {
      "cell_type": "markdown",
      "source": "# <H3>In this notebook Data Science Tools and Eco System are summarized.<H3>",
      "metadata": {}
    },
    {
      "cell_type": "markdown",
      "source": "**Objectives:**",
      "metadata": {}
    },
    {
      "cell_type": "markdown",
      "source": "- List of popular languages\n- List of popular libraries\n- List of popular tools\n- Examples of arithmetic expressions",
      "metadata": {}
    },
    {
      "cell_type": "markdown",
      "source": "<H2>Author<H2>",
      "metadata": {}
    },
    {
      "cell_type": "markdown",
      "source": "Bhupender Kapoor",
      "metadata": {}
    },
    {
      "cell_type": "markdown",
      "source": "# <H4>Some of the popular languages that Data Scientists use are.<H4>",
      "metadata": {}
    },
    {
      "cell_type": "markdown",
      "source": "# 1. Python\n# 2. R\n# 3. Java\n# 4. C++",
      "metadata": {}
    },
    {
      "cell_type": "markdown",
      "source": "# <H4>SOme of the commonly used libraries used by Data Scientists include:<H4>\n1. Pandas\n2. NumPy\n3. Matplotlib\n4. TensorFlow",
      "metadata": {}
    },
    {
      "cell_type": "markdown",
      "source": "Data Science Tools\n-----------------\nJupyter\n-------\nVisual Studio\n-------------\nR Studio\n----------",
      "metadata": {}
    },
    {
      "cell_type": "markdown",
      "source": "# <H3>Below are a few exapmles of evaluating arithmetic expressions in Python<H3>",
      "metadata": {}
    },
    {
      "cell_type": "markdown",
      "source": "This is a simple arithmetic expression to multiply then add integers",
      "metadata": {}
    },
    {
      "cell_type": "code",
      "source": "(3*4)+5",
      "metadata": {
        "trusted": true
      },
      "outputs": [
        {
          "execution_count": 11,
          "output_type": "execute_result",
          "data": {
            "text/plain": "17"
          },
          "metadata": {}
        }
      ],
      "execution_count": 11
    },
    {
      "cell_type": "markdown",
      "source": "This will convert 200 minutes to hours by didviding by 60",
      "metadata": {}
    },
    {
      "cell_type": "code",
      "source": "200/60",
      "metadata": {
        "trusted": true
      },
      "outputs": [
        {
          "execution_count": 12,
          "output_type": "execute_result",
          "data": {
            "text/plain": "3.3333333333333335"
          },
          "metadata": {}
        }
      ],
      "execution_count": 12
    },
    {
      "cell_type": "code",
      "source": "",
      "metadata": {
        "trusted": true
      },
      "outputs": [],
      "execution_count": null
    }
  ]
}